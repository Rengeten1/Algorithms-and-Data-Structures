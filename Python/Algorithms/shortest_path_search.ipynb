{
 "cells": [
  {
   "cell_type": "markdown",
   "id": "1a83e75a",
   "metadata": {},
   "source": [
    "### Question 1\n",
    "\n",
    "Given two containers with capacities X = 418 and Y = 986, both starting empty at state (0, 0), what is the minimum number of actions (fill, move, or empty) required to reach the state (6, 0) using the shortest path search algorithm? The containers cannot be overfilled at any step."
   ]
  },
  {
   "cell_type": "markdown",
   "id": "9af96352",
   "metadata": {},
   "source": [
    "### Answer\n",
    "\n",
    "To solve this problem, we represent the state of the containers as a tuple **(x, y)**, where:\n",
    "\n",
    "- **x**: amount of liquid in container X (capacity 418)\n",
    "- **y**: amount of liquid in container Y (capacity 986)\n",
    "\n",
    "The goal is to reach the state **(6, 0)** from the initial state **(0, 0)** using the shortest path search algorithm.\n",
    "\n",
    "#### Possible Actions\n",
    "\n",
    "1. **Fill container X** to its capacity (418).\n",
    "2. **Fill container Y** to its capacity (986).\n",
    "3. **Empty container X** (set x to 0).\n",
    "4. **Empty container Y** (set y to 0).\n",
    "5. **Pour from X to Y** until X is empty or Y is full.\n",
    "6. **Pour from Y to X** until Y is empty or X is full.\n",
    "\n",
    "#### Approach\n",
    "\n",
    "We use a **Breadth-First Search (BFS)** algorithm to explore all possible states and find the shortest path to the goal state. BFS ensures that we find the solution with the minimum number of actions.\n",
    "\n",
    "---\n",
    "\n",
    "**Summary Table**\n",
    "\n",
    "| Variable      | Description                                   | Example Value |\n",
    "|---------------|-----------------------------------------------|---------------|\n",
    "| `start_state` | Initial state of the containers               | (0, 0)        |\n",
    "| `res`         | Sequence of states and actions to reach goal  | ...           |\n",
    "\n",
    "---\n",
    "\n",
    "**Result:**  \n",
    "The shortest path search found a solution in **618 actions** to reach the state **(6, 0)** from **(0, 0)**."
   ]
  },
  {
   "cell_type": "code",
   "execution_count": 26,
   "id": "2da203a8",
   "metadata": {},
   "outputs": [],
   "source": [
    "def shortest_path_search(start, successors, goal):\n",
    "    if goal(start):\n",
    "        return [start]\n",
    "    explored = set([start])\n",
    "    frontier = [[start]]\n",
    "    while frontier:\n",
    "        path = frontier.pop(0)\n",
    "        node = path[-1]\n",
    "        for state, action in successors(node).items():\n",
    "            if state not in explored:\n",
    "                explored.add(state)\n",
    "                path2 = path + [action, state]\n",
    "                if goal(state):\n",
    "                    return path2\n",
    "                else:\n",
    "                    frontier.append(path2)\n",
    "    return []"
   ]
  },
  {
   "cell_type": "markdown",
   "id": "3c77601e",
   "metadata": {},
   "source": [
    "After implementing the main logic of the BFS algorithm, we move on to the implementation of the function that will perform the BFS search. The function will take the initial state, the goal state, and the capacities of the containers as input and return the minimum number of actions required to reach the goal state."
   ]
  },
  {
   "cell_type": "code",
   "execution_count": 27,
   "id": "d892e9a3",
   "metadata": {},
   "outputs": [],
   "source": [
    "def is_goal(state):\n",
    "    return state == (6,0)"
   ]
  },
  {
   "cell_type": "markdown",
   "id": "608b54a1",
   "metadata": {},
   "source": [
    "The code defines the `sucessors` function, which generates all possible next states from a given state for the two-container problem. Here’s a breakdown:\n",
    "\n",
    "- **Inputs:**  \n",
    "    `state` — a tuple `(x, y)` representing the current amount of liquid in containers X and Y.\n",
    "\n",
    "- **Constants:**  \n",
    "    `X = 418` and `Y = 986` are the capacities of the two containers.\n",
    "\n",
    "- **Assertions:**  \n",
    "    Ensures the current state does not exceed the container capacities.\n",
    "\n",
    "- **Returns:**  \n",
    "    A dictionary mapping possible next states to the action taken to reach them. The possible actions are:\n",
    "    - Fill container Y to capacity.\n",
    "    - Fill container X to capacity.\n",
    "    - Empty container X.\n",
    "    - Empty container Y.\n",
    "    - Pour from Y to X until X is full or Y is empty (`x <- y`).\n",
    "    - Pour from X to Y until Y is full or X is empty (`x -> y`).\n",
    "\n",
    "This function is used by the BFS algorithm to explore all possible moves from a given state, helping to find the shortest sequence of actions to reach the goal state."
   ]
  },
  {
   "cell_type": "code",
   "execution_count": 28,
   "id": "e65e9e3b",
   "metadata": {},
   "outputs": [],
   "source": [
    "def sucessors(state):\n",
    "    X = 418\n",
    "    Y = 986\n",
    "    x, y = state\n",
    "    assert x <= X and y <= Y\n",
    "    return {\n",
    "        (x, Y): 'fill y',\n",
    "        (X, y): 'fill x',\n",
    "        (0, y): 'empty x',\n",
    "        (x, 0): 'empty y',\n",
    "        (x+y, 0) if x+y <= X else (X, y - (X - x)): 'x <- y',\n",
    "        (0, x+y) if x+y <= Y else (x - (Y - y), Y): 'x -> y'\n",
    "    }"
   ]
  },
  {
   "cell_type": "markdown",
   "id": "7c20cc0e",
   "metadata": {},
   "source": [
    "Setting the starting state\n",
    "\n",
    "The starting state is defined as `start_state = (0, 0)`, representing both containers being empty at the beginning of the process."
   ]
  },
  {
   "cell_type": "code",
   "execution_count": 29,
   "id": "78c48bb1",
   "metadata": {},
   "outputs": [],
   "source": [
    "start_state = (0,0)"
   ]
  },
  {
   "cell_type": "markdown",
   "id": "7a38dc42",
   "metadata": {},
   "source": [
    "In the next Python code block, we will analyze the result stored in the variable __res__, which contains the __sequence of states__ and __actions taken to reach the goal__ state using the __shortest path search__ algorithm. We will extract and display the sequence of actions and states, and verify the minimum number of actions required to reach the __target state (6, 0)__."
   ]
  },
  {
   "cell_type": "code",
   "execution_count": 30,
   "id": "a49f6f54",
   "metadata": {},
   "outputs": [
    {
     "name": "stdout",
     "output_type": "stream",
     "text": [
      "618\n"
     ]
    }
   ],
   "source": [
    "res = shortest_path_search(start_state, sucessors, is_goal)\n",
    "print(len(res) // 2)"
   ]
  },
  {
   "cell_type": "markdown",
   "id": "426d3e53",
   "metadata": {},
   "source": [
    "The previous block executed the `shortest_path_search` algorithm to find the minimum sequence of actions\n",
    "required to reach the state (6, 0) from the initial state (0, 0) using two containers of capacities 418 and 986.\n",
    "The result, stored in `res`, is a list alternating between states and actions taken.\n",
    "The code then printed the minimum number of actions required, which is the length of `res` divided by 2.\n",
    "\n",
    "The shortest path search found a solution in **618** actions.\n"
   ]
  }
 ],
 "metadata": {
  "kernelspec": {
   "display_name": "Python 3",
   "language": "python",
   "name": "python3"
  },
  "language_info": {
   "codemirror_mode": {
    "name": "ipython",
    "version": 3
   },
   "file_extension": ".py",
   "mimetype": "text/x-python",
   "name": "python",
   "nbconvert_exporter": "python",
   "pygments_lexer": "ipython3",
   "version": "3.12.10"
  }
 },
 "nbformat": 4,
 "nbformat_minor": 5
}

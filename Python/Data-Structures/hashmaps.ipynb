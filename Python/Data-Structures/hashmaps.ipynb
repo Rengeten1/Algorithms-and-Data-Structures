{
 "cells": [
  {
   "cell_type": "markdown",
   "id": "491b0aac",
   "metadata": {},
   "source": [
    "# Hashmaps\n",
    "In this notebook, we will explore the concept of hashmaps, which are a fundamental data structure in computer science. Hashmaps allow for efficient data retrieval and storage by using a hash function to map keys to values.\n",
    "\n",
    "In python, we have a built-in dictionary data structure that functions as a hashmap. But we will implement our own hashmap to understand how it works under the hood.\n",
    "\n",
    "# Let's start by defining a simple HashMap class"
   ]
  },
  {
   "cell_type": "code",
   "execution_count": null,
   "id": "3cd6b6ea",
   "metadata": {},
   "outputs": [],
   "source": [
    "from collections.abc import MutableMapping\n",
    "\n",
    "# abc: Abstract Base Class\n",
    "\n",
    "class Mapbase(MutableMapping):\n",
    "    def __init__(self, k, v):\n",
    "        self._key = k\n",
    "        self._value = v\n",
    "    def __eq__(self, other):\n",
    "        return self._value == other._value \n",
    "    def __ne__(self, other):\n",
    "        return not (self == other)\n",
    "    def __lt__(self, other):\n",
    "        return self._value < other._value\n",
    "\n",
    "class UnsortedTableMap(Mapbase):\n",
    "    def __init__(self):\n",
    "        self._table = []\n",
    "    def __len__(self):\n",
    "        return len(self.table)\n",
    "    def __getitem__(self, k):\n",
    "        for item in self.table:\n",
    "            if item._value == k:\n",
    "                return item._value\n",
    "        raise KeyError('_value Error: {0}'.format(k))\n",
    "    def __setitem__(self, k, v):\n",
    "        for item in self.table:\n",
    "            if item._value == k:\n",
    "                item._value = v\n",
    "                return\n",
    "        self._table.append(self._item(k, v))    \n",
    "    def __delitem__(self, k):\n",
    "        for j in range(len(self.table)):\n",
    "            if k == self.table[j]._value:\n",
    "                self.table.pop(j)\n",
    "                return\n",
    "        raise KeyError('_value Error: {0}'.format(k))\n",
    "    def __iter__(self):\n",
    "        for item in self.table:\n",
    "            yield item._value"
   ]
  },
  {
   "cell_type": "code",
   "execution_count": null,
   "id": "b42d950e",
   "metadata": {},
   "outputs": [
    {
     "ename": "AttributeError",
     "evalue": "'UnsortedTableMap' object has no attribute 'table'",
     "output_type": "error",
     "traceback": [
      "\u001b[31m---------------------------------------------------------------------------\u001b[39m",
      "\u001b[31mAttributeError\u001b[39m                            Traceback (most recent call last)",
      "\u001b[36mCell\u001b[39m\u001b[36m \u001b[39m\u001b[32mIn[13]\u001b[39m\u001b[32m, line 2\u001b[39m\n\u001b[32m      1\u001b[39m data = UnsortedTableMap()\n\u001b[32m----> \u001b[39m\u001b[32m2\u001b[39m \u001b[38;5;28;43mlen\u001b[39;49m\u001b[43m(\u001b[49m\u001b[43mdata\u001b[49m\u001b[43m)\u001b[49m\n\u001b[32m      3\u001b[39m data[\u001b[32m5\u001b[39m] = \u001b[33m'\u001b[39m\u001b[33mfive\u001b[39m\u001b[33m'\u001b[39m\n\u001b[32m      4\u001b[39m data[\u001b[32m3\u001b[39m] = \u001b[33m'\u001b[39m\u001b[33mthree\u001b[39m\u001b[33m'\u001b[39m\n",
      "\u001b[36mCell\u001b[39m\u001b[36m \u001b[39m\u001b[32mIn[12]\u001b[39m\u001b[32m, line 20\u001b[39m, in \u001b[36mUnsortedTableMap.__len__\u001b[39m\u001b[34m(self)\u001b[39m\n\u001b[32m     19\u001b[39m \u001b[38;5;28;01mdef\u001b[39;00m\u001b[38;5;250m \u001b[39m\u001b[34m__len__\u001b[39m(\u001b[38;5;28mself\u001b[39m):\n\u001b[32m---> \u001b[39m\u001b[32m20\u001b[39m     \u001b[38;5;28;01mreturn\u001b[39;00m \u001b[38;5;28mlen\u001b[39m(\u001b[38;5;28;43mself\u001b[39;49m\u001b[43m.\u001b[49m\u001b[43mtable\u001b[49m)\n",
      "\u001b[31mAttributeError\u001b[39m: 'UnsortedTableMap' object has no attribute 'table'"
     ]
    }
   ],
   "source": [
    "data = UnsortedTableMap()\n",
    "len(data)\n",
    "data[5] = 'five'\n",
    "data[3] = 'three'\n",
    "data[7] = 'seven'\n",
    "data[5] = 'five updated'\n",
    "data[3] = 'three updated'\n",
    "data[7] = 'seven updated'\n",
    "for _value in data:\n",
    "    print(_value, data[_value])\n",
    "data[5]\n",
    "data[3]\n",
    "data[7]\n",
    "data[5] = 'five updated again'\n",
    "len(data)"
   ]
  },
  {
   "cell_type": "code",
   "execution_count": 14,
   "id": "a6d57550",
   "metadata": {},
   "outputs": [
    {
     "data": {
      "text/plain": [
       "6536840939547686264"
      ]
     },
     "execution_count": 14,
     "metadata": {},
     "output_type": "execute_result"
    }
   ],
   "source": [
    "hash(\"hello\")"
   ]
  },
  {
   "cell_type": "code",
   "execution_count": null,
   "id": "236f3396",
   "metadata": {},
   "outputs": [],
   "source": [
    "class HashmapBase(Mapbase):\n",
    "    def __init__(self, cap=11, p=109345121):\n",
    "        self._table = [None] * cap\n",
    "        self._n = 0\n",
    "        self._prime = p\n",
    "        self._scale = 1 + randrange(p-1)\n",
    "        self._shift = randrange(p)\n",
    "    def _hash_function(self, k):\n",
    "        return (hash(k) * self._scale + self._shift) % self._prime % len(self._table)\n",
    "    def __len__(self):\n",
    "        return self._n\n",
    "    def __getitem__(self, k):\n",
    "        j = self._hash_function(k)\n",
    "        return self._bucket_getitem(j, k)\n",
    "    def __setitem__(self, k, v):\n",
    "        j = self._hash_function(k)\n",
    "        self._bucket_setitem(j, k, v)\n",
    "        if self._n > len(self._table) // 2:\n",
    "            self._resize(2 * len(self._table) - 1)\n",
    "    def __delitem__(self, k):\n",
    "        j = self._hash_function(k)\n",
    "        self._bucket_delitem(j, k)\n",
    "        self._n -= 1\n",
    "    def _resize(self, c):\n",
    "        old = list(self.items())\n",
    "        self._table = [None] * c\n",
    "        self._n = 0\n",
    "        for (k, v) in old:\n",
    "            self[k] = v"
   ]
  }
 ],
 "metadata": {
  "kernelspec": {
   "display_name": "Python 3",
   "language": "python",
   "name": "python3"
  },
  "language_info": {
   "codemirror_mode": {
    "name": "ipython",
    "version": 3
   },
   "file_extension": ".py",
   "mimetype": "text/x-python",
   "name": "python",
   "nbconvert_exporter": "python",
   "pygments_lexer": "ipython3",
   "version": "3.12.10"
  }
 },
 "nbformat": 4,
 "nbformat_minor": 5
}

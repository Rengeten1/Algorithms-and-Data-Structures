{
 "cells": [
  {
   "cell_type": "markdown",
   "id": "1a83e75a",
   "metadata": {},
   "source": [
    "### Question\n",
    "\n",
    "Given two containers with capacities X = 418 and Y = 986, both starting empty at state (0, 0), what is the minimum number of actions (fill, move, or empty) required to reach the state (6, 0) using the shortest path search algorithm? The containers cannot be overfilled at any step."
   ]
  },
  {
   "cell_type": "markdown",
   "id": "9af96352",
   "metadata": {},
   "source": [
    "### Answer\n",
    "To solve this problem, we can represent the state of the containers as a tuple (x, y), where x is the amount of liquid in container X and y is the amount of liquid in container Y. The goal is to reach the state (6, 0) from the initial state (0, 0) using the shortest path search algorithm.\n",
    "#### We can define the possible actions as follows:\n",
    "1. Fill container X to its capacity (418).\n",
    "2. Fill container Y to its capacity (986).\n",
    "3. Empty container X (set x to 0).\n",
    "4. Empty container Y (set y to 0).\n",
    "5. Pour liquid from container X to container Y until either container X is empty or container Y is full.    \n",
    "6. Pour liquid from container Y to container X until either container Y is empty or container X is full.\n",
    "We can implement a breadth-first search (BFS) algorithm to explore all possible states and find the shortest path to the goal state (6, 0). The BFS algorithm will ensure that we explore all states level by level, guaranteeing that we find the shortest path."
   ]
  },
  {
   "cell_type": "code",
   "execution_count": 1,
   "id": "2da203a8",
   "metadata": {},
   "outputs": [
    {
     "ename": "KeyboardInterrupt",
     "evalue": "",
     "output_type": "error",
     "traceback": [
      "\u001b[31m---------------------------------------------------------------------------\u001b[39m",
      "\u001b[31mKeyboardInterrupt\u001b[39m                         Traceback (most recent call last)",
      "\u001b[36mCell\u001b[39m\u001b[36m \u001b[39m\u001b[32mIn[1]\u001b[39m\u001b[32m, line 1\u001b[39m\n\u001b[32m----> \u001b[39m\u001b[32m1\u001b[39m \u001b[38;5;28;01mdef\u001b[39;00m\u001b[38;5;250m \u001b[39m\u001b[34mshortest_path_search\u001b[39m(start, successors, goal):\n\u001b[32m      2\u001b[39m     \u001b[38;5;28;01mif\u001b[39;00m goal(start):\n\u001b[32m      3\u001b[39m         \u001b[38;5;28;01mreturn\u001b[39;00m [start]\n",
      "\u001b[36mFile \u001b[39m\u001b[32m<stringsource>:69\u001b[39m, in \u001b[36mcfunc.to_py.__Pyx_CFunc_b0409f__29_pydevd_sys_monitoring_cython_object__lParen__etc_to_py_4code_4line.wrap\u001b[39m\u001b[34m()\u001b[39m\n",
      "\u001b[36mFile \u001b[39m\u001b[32m_pydevd_sys_monitoring\\\\_pydevd_sys_monitoring_cython.pyx:1470\u001b[39m, in \u001b[36m_pydevd_sys_monitoring_cython._line_event\u001b[39m\u001b[34m()\u001b[39m\n",
      "\u001b[36mFile \u001b[39m\u001b[32m_pydevd_sys_monitoring\\\\_pydevd_sys_monitoring_cython.pyx:1512\u001b[39m, in \u001b[36m_pydevd_sys_monitoring_cython._internal_line_event\u001b[39m\u001b[34m()\u001b[39m\n",
      "\u001b[36mFile \u001b[39m\u001b[32m_pydevd_sys_monitoring\\\\_pydevd_sys_monitoring_cython.pyx:1313\u001b[39m, in \u001b[36m_pydevd_sys_monitoring_cython._stop_on_breakpoint\u001b[39m\u001b[34m()\u001b[39m\n",
      "\u001b[36mFile \u001b[39m\u001b[32m_pydevd_sys_monitoring\\\\_pydevd_sys_monitoring_cython.pyx:1950\u001b[39m, in \u001b[36m_pydevd_sys_monitoring_cython._do_wait_suspend\u001b[39m\u001b[34m()\u001b[39m\n",
      "\u001b[36mFile \u001b[39m\u001b[32m/workspaces/Algorithms-and-Data-Structures/venv/lib/python3.12/site-packages/debugpy/_vendored/pydevd/pydevd.py:2188\u001b[39m, in \u001b[36mPyDB.do_wait_suspend\u001b[39m\u001b[34m(self, thread, frame, event, arg, exception_type)\u001b[39m\n\u001b[32m   2185\u001b[39m             from_this_thread.append(frame_custom_thread_id)\n\u001b[32m   2187\u001b[39m     \u001b[38;5;28;01mwith\u001b[39;00m \u001b[38;5;28mself\u001b[39m._threads_suspended_single_notification.notify_thread_suspended(thread_id, thread, stop_reason):\n\u001b[32m-> \u001b[39m\u001b[32m2188\u001b[39m         keep_suspended = \u001b[38;5;28;43mself\u001b[39;49m\u001b[43m.\u001b[49m\u001b[43m_do_wait_suspend\u001b[49m\u001b[43m(\u001b[49m\u001b[43mthread\u001b[49m\u001b[43m,\u001b[49m\u001b[43m \u001b[49m\u001b[43mframe\u001b[49m\u001b[43m,\u001b[49m\u001b[43m \u001b[49m\u001b[43mevent\u001b[49m\u001b[43m,\u001b[49m\u001b[43m \u001b[49m\u001b[43marg\u001b[49m\u001b[43m,\u001b[49m\u001b[43m \u001b[49m\u001b[43mtrace_suspend_type\u001b[49m\u001b[43m,\u001b[49m\u001b[43m \u001b[49m\u001b[43mfrom_this_thread\u001b[49m\u001b[43m,\u001b[49m\u001b[43m \u001b[49m\u001b[43mframes_tracker\u001b[49m\u001b[43m)\u001b[49m\n\u001b[32m   2190\u001b[39m frames_list = \u001b[38;5;28;01mNone\u001b[39;00m\n\u001b[32m   2192\u001b[39m \u001b[38;5;28;01mif\u001b[39;00m keep_suspended:\n\u001b[32m   2193\u001b[39m     \u001b[38;5;66;03m# This means that we should pause again after a set next statement.\u001b[39;00m\n",
      "\u001b[36mFile \u001b[39m\u001b[32m/workspaces/Algorithms-and-Data-Structures/venv/lib/python3.12/site-packages/debugpy/_vendored/pydevd/pydevd.py:2257\u001b[39m, in \u001b[36mPyDB._do_wait_suspend\u001b[39m\u001b[34m(self, thread, frame, event, arg, trace_suspend_type, from_this_thread, frames_tracker)\u001b[39m\n\u001b[32m   2254\u001b[39m                 queue.put(internal_cmd)\n\u001b[32m   2255\u001b[39m                 wait_timeout = TIMEOUT_FAST\n\u001b[32m-> \u001b[39m\u001b[32m2257\u001b[39m         \u001b[43mnotify_event\u001b[49m\u001b[43m.\u001b[49m\u001b[43mwait\u001b[49m\u001b[43m(\u001b[49m\u001b[43mwait_timeout\u001b[49m\u001b[43m)\u001b[49m\n\u001b[32m   2258\u001b[39m         notify_event.clear()\n\u001b[32m   2260\u001b[39m \u001b[38;5;28;01mfinally\u001b[39;00m:\n",
      "\u001b[36mFile \u001b[39m\u001b[32m~/.python/current/lib/python3.12/threading.py:655\u001b[39m, in \u001b[36mEvent.wait\u001b[39m\u001b[34m(self, timeout)\u001b[39m\n\u001b[32m    653\u001b[39m signaled = \u001b[38;5;28mself\u001b[39m._flag\n\u001b[32m    654\u001b[39m \u001b[38;5;28;01mif\u001b[39;00m \u001b[38;5;129;01mnot\u001b[39;00m signaled:\n\u001b[32m--> \u001b[39m\u001b[32m655\u001b[39m     signaled = \u001b[38;5;28;43mself\u001b[39;49m\u001b[43m.\u001b[49m\u001b[43m_cond\u001b[49m\u001b[43m.\u001b[49m\u001b[43mwait\u001b[49m\u001b[43m(\u001b[49m\u001b[43mtimeout\u001b[49m\u001b[43m)\u001b[49m\n\u001b[32m    656\u001b[39m \u001b[38;5;28;01mreturn\u001b[39;00m signaled\n",
      "\u001b[36mFile \u001b[39m\u001b[32m~/.python/current/lib/python3.12/threading.py:359\u001b[39m, in \u001b[36mCondition.wait\u001b[39m\u001b[34m(self, timeout)\u001b[39m\n\u001b[32m    357\u001b[39m \u001b[38;5;28;01melse\u001b[39;00m:\n\u001b[32m    358\u001b[39m     \u001b[38;5;28;01mif\u001b[39;00m timeout > \u001b[32m0\u001b[39m:\n\u001b[32m--> \u001b[39m\u001b[32m359\u001b[39m         gotit = \u001b[43mwaiter\u001b[49m\u001b[43m.\u001b[49m\u001b[43macquire\u001b[49m\u001b[43m(\u001b[49m\u001b[38;5;28;43;01mTrue\u001b[39;49;00m\u001b[43m,\u001b[49m\u001b[43m \u001b[49m\u001b[43mtimeout\u001b[49m\u001b[43m)\u001b[49m\n\u001b[32m    360\u001b[39m     \u001b[38;5;28;01melse\u001b[39;00m:\n\u001b[32m    361\u001b[39m         gotit = waiter.acquire(\u001b[38;5;28;01mFalse\u001b[39;00m)\n",
      "\u001b[31mKeyboardInterrupt\u001b[39m: "
     ]
    }
   ],
   "source": [
    "def shortest_path_search(start, successors, goal):\n",
    "    if goal(start):\n",
    "        return [start]\n",
    "    explored = set([start])\n",
    "    frontier = [[start]]\n",
    "    while frontier:\n",
    "        path = frontier.pop(0)\n",
    "        node = path[-1]\n",
    "        for state, action in successors(node).items():\n",
    "            if state not in explored:\n",
    "                explored.add(state)\n",
    "                path2 = path + [action, state]\n",
    "                if goal(state):\n",
    "                    return path2\n",
    "                else:\n",
    "                    frontier.append(path2)\n",
    "    return []"
   ]
  },
  {
   "cell_type": "markdown",
   "id": "3c77601e",
   "metadata": {},
   "source": [
    "After implementing the main logic of the BFS algorithm, we move on to the implementation of the function that will perform the BFS search. The function will take the initial state, the goal state, and the capacities of the containers as input and return the minimum number of actions required to reach the goal state."
   ]
  },
  {
   "cell_type": "code",
   "execution_count": null,
   "id": "d892e9a3",
   "metadata": {},
   "outputs": [],
   "source": [
    "def is_goal(state):\n",
    "    return state == (6,0)"
   ]
  },
  {
   "cell_type": "markdown",
   "id": "608b54a1",
   "metadata": {},
   "source": [
    "Now the successor function will be implemented to generate all possible states from the current state. The successor function will take the current state and the capacities of the containers as input and return a list of all possible successor states."
   ]
  },
  {
   "cell_type": "code",
   "execution_count": null,
   "id": "e65e9e3b",
   "metadata": {},
   "outputs": [],
   "source": [
    "def sucessors(state):\n",
    "    X = 418\n",
    "    Y = 986\n",
    "    x, y = state\n",
    "    assert x <= X and y <= Y\n",
    "    return {\n",
    "        (x, Y): 'fill y',\n",
    "        (X, y): 'fill x',\n",
    "        (0, y): 'empty x',\n",
    "        (x, 0): 'empty y',\n",
    "        (x+y, 0) if x+y <= X else (X, y - (X - x)): 'x <- y',\n",
    "        (0, x+y) if x+y <= Y else (x - (Y - y), Y): 'x -> y'\n",
    "    }"
   ]
  },
  {
   "cell_type": "code",
   "execution_count": 1,
   "id": "78c48bb1",
   "metadata": {},
   "outputs": [],
   "source": [
    "start_state = (0,0)"
   ]
  },
  {
   "cell_type": "code",
   "execution_count": null,
   "id": "a49f6f54",
   "metadata": {},
   "outputs": [
    {
     "ename": "NameError",
     "evalue": "name 'shortest_path_search' is not defined",
     "output_type": "error",
     "traceback": [
      "\u001b[31m---------------------------------------------------------------------------\u001b[39m",
      "\u001b[31mNameError\u001b[39m                                 Traceback (most recent call last)",
      "\u001b[36mCell\u001b[39m\u001b[36m \u001b[39m\u001b[32mIn[1]\u001b[39m\u001b[32m, line 1\u001b[39m\n\u001b[32m----> \u001b[39m\u001b[32m1\u001b[39m res = \u001b[43mshortest_path_search\u001b[49m(start_state, sucessors, is_goal)\n\u001b[32m      2\u001b[39m \u001b[38;5;28mprint\u001b[39m(\u001b[38;5;28mlen\u001b[39m(res) // \u001b[32m2\u001b[39m)\n",
      "\u001b[31mNameError\u001b[39m: name 'shortest_path_search' is not defined"
     ]
    }
   ],
   "source": [
    "res = shortest_path_search(start_state, sucessors, is_goal)\n",
    "print(len(res) // 2)"
   ]
  }
 ],
 "metadata": {
  "kernelspec": {
   "display_name": "venv",
   "language": "python",
   "name": "python3"
  },
  "language_info": {
   "codemirror_mode": {
    "name": "ipython",
    "version": 3
   },
   "file_extension": ".py",
   "mimetype": "text/x-python",
   "name": "python",
   "nbconvert_exporter": "python",
   "pygments_lexer": "ipython3",
   "version": "3.12.1"
  }
 },
 "nbformat": 4,
 "nbformat_minor": 5
}

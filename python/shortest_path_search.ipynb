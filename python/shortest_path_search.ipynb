{
 "cells": [
  {
   "cell_type": "code",
   "execution_count": null,
   "id": "2da203a8",
   "metadata": {},
   "outputs": [],
   "source": [
    "def shortest_path_search(start, sucessors, goal):\n",
    "    if goal(state):\n",
    "        return [start]\n",
    "    explored = set(start)\n",
    "    frontier = [[start]]\n",
    "    while frontier:\n",
    "        path = frontier.pop(0)\n",
    "        node = path[-1]\n",
    "        for (state, action) in sucessors.items():\n",
    "            if state not in explored:\n",
    "                explored.append(state)\n",
    "                path2 = path + [action,state]\n",
    "                if goal(path2):\n",
    "                    return path2\n",
    "                else:\n",
    "                    frontier.append(path2)\n",
    "    return []"
   ]
  },
  {
   "cell_type": "code",
   "execution_count": null,
   "id": "d892e9a3",
   "metadata": {},
   "outputs": [],
   "source": [
    "def is_goal(state):\n",
    "    return state == (6,0)"
   ]
  },
  {
   "cell_type": "code",
   "execution_count": null,
   "id": "e65e9e3b",
   "metadata": {},
   "outputs": [],
   "source": [
    "def sucessors(state):\n",
    "    X = 418\n",
    "    Y = 986\n",
    "    x, y = state\n",
    "    assert x <= X and y <= Y\n",
    "    return {\n",
    "        (x, Y): 'fill y',\n",
    "        (X, y): 'fill x',\n",
    "        (0, y): 'empty x',\n",
    "        (x, 0): 'empty y'\n",
    "    }"
   ]
  }
 ],
 "metadata": {
  "kernelspec": {
   "display_name": "venv",
   "language": "python",
   "name": "python3"
  },
  "language_info": {
   "codemirror_mode": {
    "name": "ipython",
    "version": 3
   },
   "file_extension": ".py",
   "mimetype": "text/x-python",
   "name": "python",
   "nbconvert_exporter": "python",
   "pygments_lexer": "ipython3",
   "version": "3.12.1"
  }
 },
 "nbformat": 4,
 "nbformat_minor": 5
}
